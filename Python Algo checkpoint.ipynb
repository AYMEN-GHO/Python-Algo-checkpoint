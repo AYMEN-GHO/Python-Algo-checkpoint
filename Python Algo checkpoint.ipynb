{
 "cells": [
  {
   "cell_type": "code",
   "execution_count": 45,
   "metadata": {},
   "outputs": [
    {
     "name": "stdout",
     "output_type": "stream",
     "text": [
      "True\n",
      "False\n"
     ]
    }
   ],
   "source": [
    "#binary search\n",
    "def binary_search(arr,x):\n",
    "    a = 0\n",
    "    z = len(arr)-1\n",
    "    r = False\n",
    "    while (a <= z and not r):\n",
    "        mid = (a + z)//2\n",
    "        if arr[mid] == x :\n",
    "            r = True\n",
    "        else:\n",
    "            if x < arr[mid]:\n",
    "                z = mid - 1\n",
    "            else:\n",
    "                a = mid + 1\n",
    "    return r\n",
    "print(binary_search([1,2,3,5,8,18,58,589,5177,614], 5177))\n",
    "print(binary_search([1,2,3,5,8], 15))"
   ]
  },
  {
   "cell_type": "code",
   "execution_count": 79,
   "metadata": {},
   "outputs": [
    {
     "name": "stdout",
     "output_type": "stream",
     "text": [
      "0.125\n",
      "81\n",
      "1\n"
     ]
    }
   ],
   "source": [
    "#power\n",
    "def power(a,b):\n",
    "    if b==0:\n",
    "        return 1\n",
    "    else:\n",
    "        return a*power(a,b-1)\n",
    "\n",
    "print(power(0.5,3))\n",
    "print(power(3,4))\n",
    "print(power(0,0))"
   ]
  },
  {
   "cell_type": "code",
   "execution_count": 80,
   "metadata": {},
   "outputs": [
    {
     "name": "stdout",
     "output_type": "stream",
     "text": [
      "0.0013717421124828531\n",
      "0.5172818579717866\n",
      "0.125\n",
      "1.0\n"
     ]
    }
   ],
   "source": [
    "import math\n",
    "print(math.pow(9, -3))\n",
    "print(math.pow(9, -0.3))\n",
    "print(math.pow(0.5, 3))\n",
    "print(math.pow(0, 0))"
   ]
  },
  {
   "cell_type": "code",
   "execution_count": 94,
   "metadata": {},
   "outputs": [
    {
     "name": "stdout",
     "output_type": "stream",
     "text": [
      "[13, 22, 29, 37, 46, 49, 52, 56, 71]\n"
     ]
    }
   ],
   "source": [
    "#bubble sort\n",
    "def bubble(a):\n",
    "    for i in range(len(a)-1):\n",
    "        if a[i] > a[i+1]:\n",
    "            temp = a[i]\n",
    "            a[i] = a[i+1]\n",
    "            a[i+1] = temp    \n",
    "    return a\n",
    "\n",
    "x = [29,13,22,37,52,49,46,71,56]\n",
    "for y in range(len(x)-1):\n",
    "    bubble(x)\n",
    "\n",
    "print (x)"
   ]
  },
  {
   "cell_type": "code",
   "execution_count": 104,
   "metadata": {},
   "outputs": [
    {
     "name": "stdout",
     "output_type": "stream",
     "text": [
      "mergesort(A) = [1, 1, 3, 3, 4, 5, 7, 8, 9, 11, 12, 22, 64, 83, 223]\n",
      "mergesort(C) = [13, 22, 29, 37, 46, 49, 52, 56, 71]\n"
     ]
    }
   ],
   "source": [
    "#merge sort\n",
    "\n",
    "A = [1,5,7,3,4,3,1,8,9,12,64,22,83,223,11]\n",
    "C = [29,13,22,37,52,49,46,71,56]\n",
    "\n",
    "def merge(A1,A2):\n",
    "    B1 = []\n",
    "    while(len(A1)>0 and len(A2) > 0):\n",
    "        if(A1[0] < A2[0]):\n",
    "            B1.append(A1.pop(0))\n",
    "        else:\n",
    "            B1.append(A2.pop(0))\n",
    "    B1 = B1 + A1 + A2\n",
    "    return B1\n",
    "\n",
    "\n",
    "def mergesort(B):\n",
    "    if len(B)>1:\n",
    "        q = len(B)//2\n",
    "        B1 = mergesort(B[:q])\n",
    "        B2 = mergesort(B[q:])\n",
    "        return merge(B1,B2)\n",
    "    else:\n",
    "        return (B)\n",
    "\n",
    "print(\"mergesort(A) =\",mergesort(A))\n",
    "print(\"mergesort(C) =\",mergesort(C))"
   ]
  },
  {
   "cell_type": "code",
   "execution_count": 117,
   "metadata": {},
   "outputs": [
    {
     "name": "stdout",
     "output_type": "stream",
     "text": [
      "[1, 1, 3, 3, 4, 5, 7, 8, 9, 11, 12, 22, 64, 83, 223]\n",
      "[13, 22, 29, 37, 46, 49, 52, 56, 71]\n",
      "[17, 20, 26, 31, 44, 54, 55, 77, 93]\n",
      "[1, 3, 4, 9, 11, 22, 23, 31, 57, 64, 85, 152, 183, 483, 8888]\n"
     ]
    }
   ],
   "source": [
    "# Quick sort\n",
    "def quickSort(data_list):\n",
    "    quickSortHlp(data_list,0,len(data_list)-1)\n",
    "\n",
    "def quickSortHlp(data_list,first,last):\n",
    "    if first < last:\n",
    "        splitpoint = partition(data_list,first,last)\n",
    "        quickSortHlp(data_list,first,splitpoint-1)\n",
    "        quickSortHlp(data_list,splitpoint+1,last)\n",
    "\n",
    "\n",
    "def partition(data_list,first,last):\n",
    "    pivotvalue = data_list[first]\n",
    "    leftmark = first+1\n",
    "    rightmark = last\n",
    "    done = False\n",
    "    while not done:\n",
    "        while leftmark <= rightmark and data_list[leftmark] <= pivotvalue:\n",
    "            leftmark = leftmark + 1\n",
    "        while data_list[rightmark] >= pivotvalue and rightmark >= leftmark:\n",
    "            rightmark = rightmark -1\n",
    "        if rightmark < leftmark:\n",
    "            done = True\n",
    "        else:\n",
    "            temp = data_list[leftmark]\n",
    "            data_list[leftmark] = data_list[rightmark]\n",
    "            data_list[rightmark] = temp\n",
    "    temp = data_list[first]\n",
    "    data_list[first] = data_list[rightmark]\n",
    "    data_list[rightmark] = temp\n",
    "    return rightmark\n",
    "\n",
    "A = [1,5,7,3,4,3,1,8,9,12,64,22,83,223,11]\n",
    "C = [29,13,22,37,52,49,46,71,56]\n",
    "D = [54,26,93,17,77,31,44,55,20]\n",
    "E = [1,85,57,3,4,483,31,8888,9,152,64,22,183,23,11]\n",
    "quickSort(A)\n",
    "quickSort(C)\n",
    "quickSort(D)\n",
    "quickSort(E)\n",
    "print(A)\n",
    "print(C)\n",
    "print(D)\n",
    "print(E)"
   ]
  },
  {
   "cell_type": "code",
   "execution_count": null,
   "metadata": {},
   "outputs": [],
   "source": []
  }
 ],
 "metadata": {
  "kernelspec": {
   "display_name": "Python 3",
   "language": "python",
   "name": "python3"
  },
  "language_info": {
   "codemirror_mode": {
    "name": "ipython",
    "version": 3
   },
   "file_extension": ".py",
   "mimetype": "text/x-python",
   "name": "python",
   "nbconvert_exporter": "python",
   "pygments_lexer": "ipython3",
   "version": "3.8.5"
  }
 },
 "nbformat": 4,
 "nbformat_minor": 4
}
